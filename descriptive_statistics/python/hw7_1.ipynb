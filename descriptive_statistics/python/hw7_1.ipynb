{
  "nbformat": 4,
  "nbformat_minor": 0,
  "metadata": {
    "colab": {
      "name": "hw7_1.ipynb",
      "provenance": [],
      "collapsed_sections": []
    },
    "kernelspec": {
      "name": "python3",
      "display_name": "Python 3"
    },
    "language_info": {
      "name": "python"
    }
  },
  "cells": [
    {
      "cell_type": "code",
      "metadata": {
        "colab": {
          "base_uri": "https://localhost:8080/",
          "height": 383
        },
        "id": "xBapIYmrGCB4",
        "outputId": "bcf76f4d-ce09-4cac-f079-32adaeed64ac"
      },
      "source": [
        "import pandas as pd\n",
        "import matplotlib.pyplot as plt\n",
        "import numpy as np\n",
        "data = pd.read_csv(\"adult_data.csv\")\n",
        "data.head()\n"
      ],
      "execution_count": 2,
      "outputs": [
        {
          "output_type": "execute_result",
          "data": {
            "text/html": [
              "<div>\n",
              "<style scoped>\n",
              "    .dataframe tbody tr th:only-of-type {\n",
              "        vertical-align: middle;\n",
              "    }\n",
              "\n",
              "    .dataframe tbody tr th {\n",
              "        vertical-align: top;\n",
              "    }\n",
              "\n",
              "    .dataframe thead th {\n",
              "        text-align: right;\n",
              "    }\n",
              "</style>\n",
              "<table border=\"1\" class=\"dataframe\">\n",
              "  <thead>\n",
              "    <tr style=\"text-align: right;\">\n",
              "      <th></th>\n",
              "      <th>age</th>\n",
              "      <th>workclass</th>\n",
              "      <th>fnlwgt</th>\n",
              "      <th>education</th>\n",
              "      <th>education-num</th>\n",
              "      <th>marital-status</th>\n",
              "      <th>occupation</th>\n",
              "      <th>relationship</th>\n",
              "      <th>race</th>\n",
              "      <th>sex</th>\n",
              "      <th>capital-gain</th>\n",
              "      <th>capital-loss</th>\n",
              "      <th>hours-per-week</th>\n",
              "      <th>native-country</th>\n",
              "      <th>salary</th>\n",
              "    </tr>\n",
              "  </thead>\n",
              "  <tbody>\n",
              "    <tr>\n",
              "      <th>0</th>\n",
              "      <td>39</td>\n",
              "      <td>State-gov</td>\n",
              "      <td>77516</td>\n",
              "      <td>Bachelors</td>\n",
              "      <td>13</td>\n",
              "      <td>Never-married</td>\n",
              "      <td>Adm-clerical</td>\n",
              "      <td>Not-in-family</td>\n",
              "      <td>White</td>\n",
              "      <td>Male</td>\n",
              "      <td>2174</td>\n",
              "      <td>0</td>\n",
              "      <td>40</td>\n",
              "      <td>United-States</td>\n",
              "      <td>&lt;=50K</td>\n",
              "    </tr>\n",
              "    <tr>\n",
              "      <th>1</th>\n",
              "      <td>50</td>\n",
              "      <td>Self-emp-not-inc</td>\n",
              "      <td>83311</td>\n",
              "      <td>Bachelors</td>\n",
              "      <td>13</td>\n",
              "      <td>Married-civ-spouse</td>\n",
              "      <td>Exec-managerial</td>\n",
              "      <td>Husband</td>\n",
              "      <td>White</td>\n",
              "      <td>Male</td>\n",
              "      <td>0</td>\n",
              "      <td>0</td>\n",
              "      <td>13</td>\n",
              "      <td>United-States</td>\n",
              "      <td>&lt;=50K</td>\n",
              "    </tr>\n",
              "    <tr>\n",
              "      <th>2</th>\n",
              "      <td>38</td>\n",
              "      <td>Private</td>\n",
              "      <td>215646</td>\n",
              "      <td>HS-grad</td>\n",
              "      <td>9</td>\n",
              "      <td>Divorced</td>\n",
              "      <td>Handlers-cleaners</td>\n",
              "      <td>Not-in-family</td>\n",
              "      <td>White</td>\n",
              "      <td>Male</td>\n",
              "      <td>0</td>\n",
              "      <td>0</td>\n",
              "      <td>40</td>\n",
              "      <td>United-States</td>\n",
              "      <td>&lt;=50K</td>\n",
              "    </tr>\n",
              "    <tr>\n",
              "      <th>3</th>\n",
              "      <td>53</td>\n",
              "      <td>Private</td>\n",
              "      <td>234721</td>\n",
              "      <td>11th</td>\n",
              "      <td>7</td>\n",
              "      <td>Married-civ-spouse</td>\n",
              "      <td>Handlers-cleaners</td>\n",
              "      <td>Husband</td>\n",
              "      <td>Black</td>\n",
              "      <td>Male</td>\n",
              "      <td>0</td>\n",
              "      <td>0</td>\n",
              "      <td>40</td>\n",
              "      <td>United-States</td>\n",
              "      <td>&lt;=50K</td>\n",
              "    </tr>\n",
              "    <tr>\n",
              "      <th>4</th>\n",
              "      <td>28</td>\n",
              "      <td>Private</td>\n",
              "      <td>338409</td>\n",
              "      <td>Bachelors</td>\n",
              "      <td>13</td>\n",
              "      <td>Married-civ-spouse</td>\n",
              "      <td>Prof-specialty</td>\n",
              "      <td>Wife</td>\n",
              "      <td>Black</td>\n",
              "      <td>Female</td>\n",
              "      <td>0</td>\n",
              "      <td>0</td>\n",
              "      <td>40</td>\n",
              "      <td>Cuba</td>\n",
              "      <td>&lt;=50K</td>\n",
              "    </tr>\n",
              "  </tbody>\n",
              "</table>\n",
              "</div>"
            ],
            "text/plain": [
              "   age         workclass  fnlwgt  ... hours-per-week  native-country salary\n",
              "0   39         State-gov   77516  ...             40   United-States  <=50K\n",
              "1   50  Self-emp-not-inc   83311  ...             13   United-States  <=50K\n",
              "2   38           Private  215646  ...             40   United-States  <=50K\n",
              "3   53           Private  234721  ...             40   United-States  <=50K\n",
              "4   28           Private  338409  ...             40            Cuba  <=50K\n",
              "\n",
              "[5 rows x 15 columns]"
            ]
          },
          "metadata": {
            "tags": []
          },
          "execution_count": 2
        }
      ]
    },
    {
      "cell_type": "markdown",
      "metadata": {
        "id": "8Wjo7SECGZCT"
      },
      "source": [
        ""
      ]
    },
    {
      "cell_type": "code",
      "metadata": {
        "id": "c1dN7ZrPGboP"
      },
      "source": [
        "\n",
        "1. Сколько мужчин и женщин (признак sex) представлено в этом наборе данных?"
      ],
      "execution_count": null,
      "outputs": []
    },
    {
      "cell_type": "code",
      "metadata": {
        "colab": {
          "base_uri": "https://localhost:8080/"
        },
        "id": "ZxKOER1QGfMT",
        "outputId": "d26137d3-40a5-4b72-aa14-2895351eb205"
      },
      "source": [
        "data['sex'].value_counts()\n"
      ],
      "execution_count": 3,
      "outputs": [
        {
          "output_type": "execute_result",
          "data": {
            "text/plain": [
              "Male      21790\n",
              "Female    10771\n",
              "Name: sex, dtype: int64"
            ]
          },
          "metadata": {
            "tags": []
          },
          "execution_count": 3
        }
      ]
    },
    {
      "cell_type": "markdown",
      "metadata": {
        "id": "rVMKHAOtaJdu"
      },
      "source": [
        "2. Каков средний возраст (признак age) женщин?"
      ]
    },
    {
      "cell_type": "code",
      "metadata": {
        "id": "wLlRoh7-Hbc6",
        "colab": {
          "base_uri": "https://localhost:8080/"
        },
        "outputId": "4b9d8b53-0335-40e6-baaf-7f6675b948e8"
      },
      "source": [
        "women = data.loc[data[\"sex\"] == \"Female\"]\n",
        "women[\"age\"].mean()\n"
      ],
      "execution_count": 4,
      "outputs": [
        {
          "output_type": "execute_result",
          "data": {
            "text/plain": [
              "36.85823043357163"
            ]
          },
          "metadata": {
            "tags": []
          },
          "execution_count": 4
        }
      ]
    },
    {
      "cell_type": "markdown",
      "metadata": {
        "id": "VmJ9bZBOaSqR"
      },
      "source": [
        "3. Какова доля граждан Германии (признак native-country)?"
      ]
    },
    {
      "cell_type": "code",
      "metadata": {
        "colab": {
          "base_uri": "https://localhost:8080/"
        },
        "id": "jrFAaxlXMUMt",
        "outputId": "166d569e-17bf-43b9-c5d7-501483cf7ba5"
      },
      "source": [
        "germans = (data[\"native-country\"] == \"Germany\").sum()\n",
        "people = data.shape [0]\n",
        "float(germans / people)"
      ],
      "execution_count": 5,
      "outputs": [
        {
          "output_type": "execute_result",
          "data": {
            "text/plain": [
              "0.004207487485028101"
            ]
          },
          "metadata": {
            "tags": []
          },
          "execution_count": 5
        }
      ]
    },
    {
      "cell_type": "markdown",
      "metadata": {
        "id": "WKMqZAHeaV6A"
      },
      "source": [
        "4-5. Каковы средние значения и среднеквадратичные отклонения возраста тех, кто получает более 50K в год (признак salary) и тех, кто получает менее 50K в год?\n"
      ]
    },
    {
      "cell_type": "code",
      "metadata": {
        "colab": {
          "base_uri": "https://localhost:8080/"
        },
        "id": "Glf_6UpmPtSt",
        "outputId": "6fa9fcba-d85a-46e5-b84b-14b5a062fc51"
      },
      "source": [
        "avrich = data.loc[data[\"salary\"] == \">50K\"]['age'].mean()\n",
        "stdrich = data.loc[data[\"salary\"] == \">50K\"]['age'].std(ddof=0)\n",
        "avpoor = data.loc[data[\"salary\"] == \"<=50K\"]['age'].mean()\n",
        "stdpoor = data.loc[data[\"salary\"] == \"<=50K\"]['age'].std(ddof=0)\n",
        "print(avrich, stdrich, avpoor, stdpoor, sep=\"\\n\")"
      ],
      "execution_count": 6,
      "outputs": [
        {
          "output_type": "stream",
          "text": [
            "44.24984058155847\n",
            "10.518356927661575\n",
            "36.78373786407767\n",
            "14.019804910115214\n"
          ],
          "name": "stdout"
        }
      ]
    },
    {
      "cell_type": "markdown",
      "metadata": {
        "id": "hvucR-qIad29"
      },
      "source": [
        "6. Правда ли, что люди, которые получают больше 50k, имеют как минимум высшее образование? (признак education – Bachelors, Prof-school, Assoc-acdm, Assoc-voc, Masters или Doctorate)\n",
        "\n"
      ]
    },
    {
      "cell_type": "code",
      "metadata": {
        "id": "CA9vSdByR95q",
        "colab": {
          "base_uri": "https://localhost:8080/"
        },
        "outputId": "665a5887-3392-4aaa-8341-89fefeeb2e70"
      },
      "source": [
        "education = np.array([\"Bachelors\", \"Prof-school\", \"Assoc-acdm\", \"Assoc-voc\", \"Masters\", \"Doctorate\"])\n",
        "salary = data[data['salary'] == '>50K']['education'].unique()\n",
        "np.array_equal(education, salary, equal_nan=False)"
      ],
      "execution_count": 10,
      "outputs": [
        {
          "output_type": "execute_result",
          "data": {
            "text/plain": [
              "False"
            ]
          },
          "metadata": {
            "tags": []
          },
          "execution_count": 10
        }
      ]
    },
    {
      "cell_type": "markdown",
      "metadata": {
        "id": "4o7iWTLbaiQJ"
      },
      "source": [
        "7. Выведите статистику возраста для каждой расы (признак race) и каждого пола. Используйте groupby и describe. Найдите таким образом максимальный возраст мужчин расы Amer-Indian-Eskimo."
      ]
    },
    {
      "cell_type": "code",
      "metadata": {
        "id": "WFHiS8AjXB12",
        "colab": {
          "base_uri": "https://localhost:8080/",
          "height": 373
        },
        "outputId": "4a3be66c-7360-44be-c7f5-0db3afb8991b"
      },
      "source": [
        "data.groupby([\"race\", \"sex\"]).age.describe()"
      ],
      "execution_count": 11,
      "outputs": [
        {
          "output_type": "execute_result",
          "data": {
            "text/html": [
              "<div>\n",
              "<style scoped>\n",
              "    .dataframe tbody tr th:only-of-type {\n",
              "        vertical-align: middle;\n",
              "    }\n",
              "\n",
              "    .dataframe tbody tr th {\n",
              "        vertical-align: top;\n",
              "    }\n",
              "\n",
              "    .dataframe thead th {\n",
              "        text-align: right;\n",
              "    }\n",
              "</style>\n",
              "<table border=\"1\" class=\"dataframe\">\n",
              "  <thead>\n",
              "    <tr style=\"text-align: right;\">\n",
              "      <th></th>\n",
              "      <th></th>\n",
              "      <th>count</th>\n",
              "      <th>mean</th>\n",
              "      <th>std</th>\n",
              "      <th>min</th>\n",
              "      <th>25%</th>\n",
              "      <th>50%</th>\n",
              "      <th>75%</th>\n",
              "      <th>max</th>\n",
              "    </tr>\n",
              "    <tr>\n",
              "      <th>race</th>\n",
              "      <th>sex</th>\n",
              "      <th></th>\n",
              "      <th></th>\n",
              "      <th></th>\n",
              "      <th></th>\n",
              "      <th></th>\n",
              "      <th></th>\n",
              "      <th></th>\n",
              "      <th></th>\n",
              "    </tr>\n",
              "  </thead>\n",
              "  <tbody>\n",
              "    <tr>\n",
              "      <th rowspan=\"2\" valign=\"top\">Amer-Indian-Eskimo</th>\n",
              "      <th>Female</th>\n",
              "      <td>119.0</td>\n",
              "      <td>37.117647</td>\n",
              "      <td>13.114991</td>\n",
              "      <td>17.0</td>\n",
              "      <td>27.0</td>\n",
              "      <td>36.0</td>\n",
              "      <td>46.00</td>\n",
              "      <td>80.0</td>\n",
              "    </tr>\n",
              "    <tr>\n",
              "      <th>Male</th>\n",
              "      <td>192.0</td>\n",
              "      <td>37.208333</td>\n",
              "      <td>12.049563</td>\n",
              "      <td>17.0</td>\n",
              "      <td>28.0</td>\n",
              "      <td>35.0</td>\n",
              "      <td>45.00</td>\n",
              "      <td>82.0</td>\n",
              "    </tr>\n",
              "    <tr>\n",
              "      <th rowspan=\"2\" valign=\"top\">Asian-Pac-Islander</th>\n",
              "      <th>Female</th>\n",
              "      <td>346.0</td>\n",
              "      <td>35.089595</td>\n",
              "      <td>12.300845</td>\n",
              "      <td>17.0</td>\n",
              "      <td>25.0</td>\n",
              "      <td>33.0</td>\n",
              "      <td>43.75</td>\n",
              "      <td>75.0</td>\n",
              "    </tr>\n",
              "    <tr>\n",
              "      <th>Male</th>\n",
              "      <td>693.0</td>\n",
              "      <td>39.073593</td>\n",
              "      <td>12.883944</td>\n",
              "      <td>18.0</td>\n",
              "      <td>29.0</td>\n",
              "      <td>37.0</td>\n",
              "      <td>46.00</td>\n",
              "      <td>90.0</td>\n",
              "    </tr>\n",
              "    <tr>\n",
              "      <th rowspan=\"2\" valign=\"top\">Black</th>\n",
              "      <th>Female</th>\n",
              "      <td>1555.0</td>\n",
              "      <td>37.854019</td>\n",
              "      <td>12.637197</td>\n",
              "      <td>17.0</td>\n",
              "      <td>28.0</td>\n",
              "      <td>37.0</td>\n",
              "      <td>46.00</td>\n",
              "      <td>90.0</td>\n",
              "    </tr>\n",
              "    <tr>\n",
              "      <th>Male</th>\n",
              "      <td>1569.0</td>\n",
              "      <td>37.682600</td>\n",
              "      <td>12.882612</td>\n",
              "      <td>17.0</td>\n",
              "      <td>27.0</td>\n",
              "      <td>36.0</td>\n",
              "      <td>46.00</td>\n",
              "      <td>90.0</td>\n",
              "    </tr>\n",
              "    <tr>\n",
              "      <th rowspan=\"2\" valign=\"top\">Other</th>\n",
              "      <th>Female</th>\n",
              "      <td>109.0</td>\n",
              "      <td>31.678899</td>\n",
              "      <td>11.631599</td>\n",
              "      <td>17.0</td>\n",
              "      <td>23.0</td>\n",
              "      <td>29.0</td>\n",
              "      <td>39.00</td>\n",
              "      <td>74.0</td>\n",
              "    </tr>\n",
              "    <tr>\n",
              "      <th>Male</th>\n",
              "      <td>162.0</td>\n",
              "      <td>34.654321</td>\n",
              "      <td>11.355531</td>\n",
              "      <td>17.0</td>\n",
              "      <td>26.0</td>\n",
              "      <td>32.0</td>\n",
              "      <td>42.00</td>\n",
              "      <td>77.0</td>\n",
              "    </tr>\n",
              "    <tr>\n",
              "      <th rowspan=\"2\" valign=\"top\">White</th>\n",
              "      <th>Female</th>\n",
              "      <td>8642.0</td>\n",
              "      <td>36.811618</td>\n",
              "      <td>14.329093</td>\n",
              "      <td>17.0</td>\n",
              "      <td>25.0</td>\n",
              "      <td>35.0</td>\n",
              "      <td>46.00</td>\n",
              "      <td>90.0</td>\n",
              "    </tr>\n",
              "    <tr>\n",
              "      <th>Male</th>\n",
              "      <td>19174.0</td>\n",
              "      <td>39.652498</td>\n",
              "      <td>13.436029</td>\n",
              "      <td>17.0</td>\n",
              "      <td>29.0</td>\n",
              "      <td>38.0</td>\n",
              "      <td>49.00</td>\n",
              "      <td>90.0</td>\n",
              "    </tr>\n",
              "  </tbody>\n",
              "</table>\n",
              "</div>"
            ],
            "text/plain": [
              "                             count       mean        std  ...   50%    75%   max\n",
              "race               sex                                    ...                   \n",
              "Amer-Indian-Eskimo Female    119.0  37.117647  13.114991  ...  36.0  46.00  80.0\n",
              "                   Male      192.0  37.208333  12.049563  ...  35.0  45.00  82.0\n",
              "Asian-Pac-Islander Female    346.0  35.089595  12.300845  ...  33.0  43.75  75.0\n",
              "                   Male      693.0  39.073593  12.883944  ...  37.0  46.00  90.0\n",
              "Black              Female   1555.0  37.854019  12.637197  ...  37.0  46.00  90.0\n",
              "                   Male     1569.0  37.682600  12.882612  ...  36.0  46.00  90.0\n",
              "Other              Female    109.0  31.678899  11.631599  ...  29.0  39.00  74.0\n",
              "                   Male      162.0  34.654321  11.355531  ...  32.0  42.00  77.0\n",
              "White              Female   8642.0  36.811618  14.329093  ...  35.0  46.00  90.0\n",
              "                   Male    19174.0  39.652498  13.436029  ...  38.0  49.00  90.0\n",
              "\n",
              "[10 rows x 8 columns]"
            ]
          },
          "metadata": {
            "tags": []
          },
          "execution_count": 11
        }
      ]
    },
    {
      "cell_type": "markdown",
      "metadata": {
        "id": "aCjO1ejZamR9"
      },
      "source": [
        "8. Среди кого больше доля зарабатывающих много (>50K): среди женатых или холостых мужчин (признак marital-status)? Женатыми считаем тех, у кого marital-status начинается с Married (Married-civ-spouse, Married-spouse-absent или Married-AF-spouse), остальных считаем холостыми."
      ]
    },
    {
      "cell_type": "code",
      "metadata": {
        "colab": {
          "base_uri": "https://localhost:8080/"
        },
        "id": "GVInUmvWYNF3",
        "outputId": "f35382ff-0d05-4431-ea0f-d8f4afef0d86"
      },
      "source": [
        "richm = data[(data[\"sex\"] == \"Male\") & (data[\"marital-status\"].str.startswith('Married'))] ['salary'].value_counts()[1]\n",
        "richnm = data[(data[\"sex\"] == \"Male\") & (data[\"marital-status\"].isin(['Never-married', 'Separated', 'Divorced']))] ['salary'].value_counts()[1]\n",
        "men = (data[\"sex\"] == 'Male').count()\n",
        "print('Доля женатых, зарабатывающих >50k:', richm/men)\n",
        "print('Доля холостых, зарабатывающих >50k:', richnm/men)"
      ],
      "execution_count": 14,
      "outputs": [
        {
          "output_type": "stream",
          "text": [
            "Доля женатых, зарабатывающих >50k: 0.18319461932987316\n",
            "Доля холостых, зарабатывающих >50k: 0.020208224563127666\n"
          ],
          "name": "stdout"
        }
      ]
    },
    {
      "cell_type": "markdown",
      "metadata": {
        "id": "WsHa8QNyapLn"
      },
      "source": [
        "9. Какое максимальное число часов человек работает в неделю (признак hours-per-week)? Сколько людей работают такое количество часов и каков среди них процент зарабатывающих много?"
      ]
    },
    {
      "cell_type": "code",
      "metadata": {
        "colab": {
          "base_uri": "https://localhost:8080/"
        },
        "id": "fWaILos4d522",
        "outputId": "b9a91972-c6c2-4a08-aebb-909add7c8435"
      },
      "source": [
        "maxh = data['hours-per-week'].max()\n",
        "workers = (data['hours-per-week'] == maxh).sum()\n",
        "rich_workers = data[(data['hours-per-week'] == maxh)] ['salary'].value_counts()[1]\n",
        "print('Максимальное кол-во часов в неделю:', maxh)\n",
        "print('Количество работяг:', workers)\n",
        "print(\"Процент богатых работяг:\", ((rich_workers/workers) * 100),'%')"
      ],
      "execution_count": null,
      "outputs": [
        {
          "output_type": "stream",
          "text": [
            "Максимальное кол-во часов в неделю: 99\n",
            "Количество работяг: 85\n",
            "Процент богатых работяг: 29.411764705882355 %\n"
          ],
          "name": "stdout"
        }
      ]
    },
    {
      "cell_type": "markdown",
      "metadata": {
        "id": "Xamb1_nKar0r"
      },
      "source": [
        "10. Посчитайте среднее время работы (hours-per-week) зарабатывающих мало и много (salary) для каждой страны (native-country)."
      ]
    },
    {
      "cell_type": "code",
      "metadata": {
        "colab": {
          "base_uri": "https://localhost:8080/",
          "height": 1000
        },
        "id": "gc4YbX8zhK0u",
        "outputId": "aaff9ab0-b7ac-4952-fbc9-4bfc33039430"
      },
      "source": [
        "pd.set_option('display.max_rows', 82)\n",
        "pd.DataFrame(data.groupby([\"native-country\", \"salary\"])[\"hours-per-week\"].mean())"
      ],
      "execution_count": 15,
      "outputs": [
        {
          "output_type": "execute_result",
          "data": {
            "text/html": [
              "<div>\n",
              "<style scoped>\n",
              "    .dataframe tbody tr th:only-of-type {\n",
              "        vertical-align: middle;\n",
              "    }\n",
              "\n",
              "    .dataframe tbody tr th {\n",
              "        vertical-align: top;\n",
              "    }\n",
              "\n",
              "    .dataframe thead th {\n",
              "        text-align: right;\n",
              "    }\n",
              "</style>\n",
              "<table border=\"1\" class=\"dataframe\">\n",
              "  <thead>\n",
              "    <tr style=\"text-align: right;\">\n",
              "      <th></th>\n",
              "      <th></th>\n",
              "      <th>hours-per-week</th>\n",
              "    </tr>\n",
              "    <tr>\n",
              "      <th>native-country</th>\n",
              "      <th>salary</th>\n",
              "      <th></th>\n",
              "    </tr>\n",
              "  </thead>\n",
              "  <tbody>\n",
              "    <tr>\n",
              "      <th rowspan=\"2\" valign=\"top\">?</th>\n",
              "      <th>&lt;=50K</th>\n",
              "      <td>40.164760</td>\n",
              "    </tr>\n",
              "    <tr>\n",
              "      <th>&gt;50K</th>\n",
              "      <td>45.547945</td>\n",
              "    </tr>\n",
              "    <tr>\n",
              "      <th rowspan=\"2\" valign=\"top\">Cambodia</th>\n",
              "      <th>&lt;=50K</th>\n",
              "      <td>41.416667</td>\n",
              "    </tr>\n",
              "    <tr>\n",
              "      <th>&gt;50K</th>\n",
              "      <td>40.000000</td>\n",
              "    </tr>\n",
              "    <tr>\n",
              "      <th rowspan=\"2\" valign=\"top\">Canada</th>\n",
              "      <th>&lt;=50K</th>\n",
              "      <td>37.914634</td>\n",
              "    </tr>\n",
              "    <tr>\n",
              "      <th>&gt;50K</th>\n",
              "      <td>45.641026</td>\n",
              "    </tr>\n",
              "    <tr>\n",
              "      <th rowspan=\"2\" valign=\"top\">China</th>\n",
              "      <th>&lt;=50K</th>\n",
              "      <td>37.381818</td>\n",
              "    </tr>\n",
              "    <tr>\n",
              "      <th>&gt;50K</th>\n",
              "      <td>38.900000</td>\n",
              "    </tr>\n",
              "    <tr>\n",
              "      <th rowspan=\"2\" valign=\"top\">Columbia</th>\n",
              "      <th>&lt;=50K</th>\n",
              "      <td>38.684211</td>\n",
              "    </tr>\n",
              "    <tr>\n",
              "      <th>&gt;50K</th>\n",
              "      <td>50.000000</td>\n",
              "    </tr>\n",
              "    <tr>\n",
              "      <th rowspan=\"2\" valign=\"top\">Cuba</th>\n",
              "      <th>&lt;=50K</th>\n",
              "      <td>37.985714</td>\n",
              "    </tr>\n",
              "    <tr>\n",
              "      <th>&gt;50K</th>\n",
              "      <td>42.440000</td>\n",
              "    </tr>\n",
              "    <tr>\n",
              "      <th rowspan=\"2\" valign=\"top\">Dominican-Republic</th>\n",
              "      <th>&lt;=50K</th>\n",
              "      <td>42.338235</td>\n",
              "    </tr>\n",
              "    <tr>\n",
              "      <th>&gt;50K</th>\n",
              "      <td>47.000000</td>\n",
              "    </tr>\n",
              "    <tr>\n",
              "      <th rowspan=\"2\" valign=\"top\">Ecuador</th>\n",
              "      <th>&lt;=50K</th>\n",
              "      <td>38.041667</td>\n",
              "    </tr>\n",
              "    <tr>\n",
              "      <th>&gt;50K</th>\n",
              "      <td>48.750000</td>\n",
              "    </tr>\n",
              "    <tr>\n",
              "      <th rowspan=\"2\" valign=\"top\">El-Salvador</th>\n",
              "      <th>&lt;=50K</th>\n",
              "      <td>36.030928</td>\n",
              "    </tr>\n",
              "    <tr>\n",
              "      <th>&gt;50K</th>\n",
              "      <td>45.000000</td>\n",
              "    </tr>\n",
              "    <tr>\n",
              "      <th rowspan=\"2\" valign=\"top\">England</th>\n",
              "      <th>&lt;=50K</th>\n",
              "      <td>40.483333</td>\n",
              "    </tr>\n",
              "    <tr>\n",
              "      <th>&gt;50K</th>\n",
              "      <td>44.533333</td>\n",
              "    </tr>\n",
              "    <tr>\n",
              "      <th rowspan=\"2\" valign=\"top\">France</th>\n",
              "      <th>&lt;=50K</th>\n",
              "      <td>41.058824</td>\n",
              "    </tr>\n",
              "    <tr>\n",
              "      <th>&gt;50K</th>\n",
              "      <td>50.750000</td>\n",
              "    </tr>\n",
              "    <tr>\n",
              "      <th rowspan=\"2\" valign=\"top\">Germany</th>\n",
              "      <th>&lt;=50K</th>\n",
              "      <td>39.139785</td>\n",
              "    </tr>\n",
              "    <tr>\n",
              "      <th>&gt;50K</th>\n",
              "      <td>44.977273</td>\n",
              "    </tr>\n",
              "    <tr>\n",
              "      <th rowspan=\"2\" valign=\"top\">Greece</th>\n",
              "      <th>&lt;=50K</th>\n",
              "      <td>41.809524</td>\n",
              "    </tr>\n",
              "    <tr>\n",
              "      <th>&gt;50K</th>\n",
              "      <td>50.625000</td>\n",
              "    </tr>\n",
              "    <tr>\n",
              "      <th rowspan=\"2\" valign=\"top\">Guatemala</th>\n",
              "      <th>&lt;=50K</th>\n",
              "      <td>39.360656</td>\n",
              "    </tr>\n",
              "    <tr>\n",
              "      <th>&gt;50K</th>\n",
              "      <td>36.666667</td>\n",
              "    </tr>\n",
              "    <tr>\n",
              "      <th rowspan=\"2\" valign=\"top\">Haiti</th>\n",
              "      <th>&lt;=50K</th>\n",
              "      <td>36.325000</td>\n",
              "    </tr>\n",
              "    <tr>\n",
              "      <th>&gt;50K</th>\n",
              "      <td>42.750000</td>\n",
              "    </tr>\n",
              "    <tr>\n",
              "      <th>Holand-Netherlands</th>\n",
              "      <th>&lt;=50K</th>\n",
              "      <td>40.000000</td>\n",
              "    </tr>\n",
              "    <tr>\n",
              "      <th rowspan=\"2\" valign=\"top\">Honduras</th>\n",
              "      <th>&lt;=50K</th>\n",
              "      <td>34.333333</td>\n",
              "    </tr>\n",
              "    <tr>\n",
              "      <th>&gt;50K</th>\n",
              "      <td>60.000000</td>\n",
              "    </tr>\n",
              "    <tr>\n",
              "      <th rowspan=\"2\" valign=\"top\">Hong</th>\n",
              "      <th>&lt;=50K</th>\n",
              "      <td>39.142857</td>\n",
              "    </tr>\n",
              "    <tr>\n",
              "      <th>&gt;50K</th>\n",
              "      <td>45.000000</td>\n",
              "    </tr>\n",
              "    <tr>\n",
              "      <th rowspan=\"2\" valign=\"top\">Hungary</th>\n",
              "      <th>&lt;=50K</th>\n",
              "      <td>31.300000</td>\n",
              "    </tr>\n",
              "    <tr>\n",
              "      <th>&gt;50K</th>\n",
              "      <td>50.000000</td>\n",
              "    </tr>\n",
              "    <tr>\n",
              "      <th rowspan=\"2\" valign=\"top\">India</th>\n",
              "      <th>&lt;=50K</th>\n",
              "      <td>38.233333</td>\n",
              "    </tr>\n",
              "    <tr>\n",
              "      <th>&gt;50K</th>\n",
              "      <td>46.475000</td>\n",
              "    </tr>\n",
              "    <tr>\n",
              "      <th rowspan=\"2\" valign=\"top\">Iran</th>\n",
              "      <th>&lt;=50K</th>\n",
              "      <td>41.440000</td>\n",
              "    </tr>\n",
              "    <tr>\n",
              "      <th>&gt;50K</th>\n",
              "      <td>47.500000</td>\n",
              "    </tr>\n",
              "    <tr>\n",
              "      <th rowspan=\"2\" valign=\"top\">Ireland</th>\n",
              "      <th>&lt;=50K</th>\n",
              "      <td>40.947368</td>\n",
              "    </tr>\n",
              "    <tr>\n",
              "      <th>&gt;50K</th>\n",
              "      <td>48.000000</td>\n",
              "    </tr>\n",
              "    <tr>\n",
              "      <th rowspan=\"2\" valign=\"top\">Italy</th>\n",
              "      <th>&lt;=50K</th>\n",
              "      <td>39.625000</td>\n",
              "    </tr>\n",
              "    <tr>\n",
              "      <th>&gt;50K</th>\n",
              "      <td>45.400000</td>\n",
              "    </tr>\n",
              "    <tr>\n",
              "      <th rowspan=\"2\" valign=\"top\">Jamaica</th>\n",
              "      <th>&lt;=50K</th>\n",
              "      <td>38.239437</td>\n",
              "    </tr>\n",
              "    <tr>\n",
              "      <th>&gt;50K</th>\n",
              "      <td>41.100000</td>\n",
              "    </tr>\n",
              "    <tr>\n",
              "      <th rowspan=\"2\" valign=\"top\">Japan</th>\n",
              "      <th>&lt;=50K</th>\n",
              "      <td>41.000000</td>\n",
              "    </tr>\n",
              "    <tr>\n",
              "      <th>&gt;50K</th>\n",
              "      <td>47.958333</td>\n",
              "    </tr>\n",
              "    <tr>\n",
              "      <th rowspan=\"2\" valign=\"top\">Laos</th>\n",
              "      <th>&lt;=50K</th>\n",
              "      <td>40.375000</td>\n",
              "    </tr>\n",
              "    <tr>\n",
              "      <th>&gt;50K</th>\n",
              "      <td>40.000000</td>\n",
              "    </tr>\n",
              "    <tr>\n",
              "      <th rowspan=\"2\" valign=\"top\">Mexico</th>\n",
              "      <th>&lt;=50K</th>\n",
              "      <td>40.003279</td>\n",
              "    </tr>\n",
              "    <tr>\n",
              "      <th>&gt;50K</th>\n",
              "      <td>46.575758</td>\n",
              "    </tr>\n",
              "    <tr>\n",
              "      <th rowspan=\"2\" valign=\"top\">Nicaragua</th>\n",
              "      <th>&lt;=50K</th>\n",
              "      <td>36.093750</td>\n",
              "    </tr>\n",
              "    <tr>\n",
              "      <th>&gt;50K</th>\n",
              "      <td>37.500000</td>\n",
              "    </tr>\n",
              "    <tr>\n",
              "      <th>Outlying-US(Guam-USVI-etc)</th>\n",
              "      <th>&lt;=50K</th>\n",
              "      <td>41.857143</td>\n",
              "    </tr>\n",
              "    <tr>\n",
              "      <th rowspan=\"2\" valign=\"top\">Peru</th>\n",
              "      <th>&lt;=50K</th>\n",
              "      <td>35.068966</td>\n",
              "    </tr>\n",
              "    <tr>\n",
              "      <th>&gt;50K</th>\n",
              "      <td>40.000000</td>\n",
              "    </tr>\n",
              "    <tr>\n",
              "      <th rowspan=\"2\" valign=\"top\">Philippines</th>\n",
              "      <th>&lt;=50K</th>\n",
              "      <td>38.065693</td>\n",
              "    </tr>\n",
              "    <tr>\n",
              "      <th>&gt;50K</th>\n",
              "      <td>43.032787</td>\n",
              "    </tr>\n",
              "    <tr>\n",
              "      <th rowspan=\"2\" valign=\"top\">Poland</th>\n",
              "      <th>&lt;=50K</th>\n",
              "      <td>38.166667</td>\n",
              "    </tr>\n",
              "    <tr>\n",
              "      <th>&gt;50K</th>\n",
              "      <td>39.000000</td>\n",
              "    </tr>\n",
              "    <tr>\n",
              "      <th rowspan=\"2\" valign=\"top\">Portugal</th>\n",
              "      <th>&lt;=50K</th>\n",
              "      <td>41.939394</td>\n",
              "    </tr>\n",
              "    <tr>\n",
              "      <th>&gt;50K</th>\n",
              "      <td>41.500000</td>\n",
              "    </tr>\n",
              "    <tr>\n",
              "      <th rowspan=\"2\" valign=\"top\">Puerto-Rico</th>\n",
              "      <th>&lt;=50K</th>\n",
              "      <td>38.470588</td>\n",
              "    </tr>\n",
              "    <tr>\n",
              "      <th>&gt;50K</th>\n",
              "      <td>39.416667</td>\n",
              "    </tr>\n",
              "    <tr>\n",
              "      <th rowspan=\"2\" valign=\"top\">Scotland</th>\n",
              "      <th>&lt;=50K</th>\n",
              "      <td>39.444444</td>\n",
              "    </tr>\n",
              "    <tr>\n",
              "      <th>&gt;50K</th>\n",
              "      <td>46.666667</td>\n",
              "    </tr>\n",
              "    <tr>\n",
              "      <th rowspan=\"2\" valign=\"top\">South</th>\n",
              "      <th>&lt;=50K</th>\n",
              "      <td>40.156250</td>\n",
              "    </tr>\n",
              "    <tr>\n",
              "      <th>&gt;50K</th>\n",
              "      <td>51.437500</td>\n",
              "    </tr>\n",
              "    <tr>\n",
              "      <th rowspan=\"2\" valign=\"top\">Taiwan</th>\n",
              "      <th>&lt;=50K</th>\n",
              "      <td>33.774194</td>\n",
              "    </tr>\n",
              "    <tr>\n",
              "      <th>&gt;50K</th>\n",
              "      <td>46.800000</td>\n",
              "    </tr>\n",
              "    <tr>\n",
              "      <th rowspan=\"2\" valign=\"top\">Thailand</th>\n",
              "      <th>&lt;=50K</th>\n",
              "      <td>42.866667</td>\n",
              "    </tr>\n",
              "    <tr>\n",
              "      <th>&gt;50K</th>\n",
              "      <td>58.333333</td>\n",
              "    </tr>\n",
              "    <tr>\n",
              "      <th rowspan=\"2\" valign=\"top\">Trinadad&amp;Tobago</th>\n",
              "      <th>&lt;=50K</th>\n",
              "      <td>37.058824</td>\n",
              "    </tr>\n",
              "    <tr>\n",
              "      <th>&gt;50K</th>\n",
              "      <td>40.000000</td>\n",
              "    </tr>\n",
              "    <tr>\n",
              "      <th rowspan=\"2\" valign=\"top\">United-States</th>\n",
              "      <th>&lt;=50K</th>\n",
              "      <td>38.799127</td>\n",
              "    </tr>\n",
              "    <tr>\n",
              "      <th>&gt;50K</th>\n",
              "      <td>45.505369</td>\n",
              "    </tr>\n",
              "    <tr>\n",
              "      <th rowspan=\"2\" valign=\"top\">Vietnam</th>\n",
              "      <th>&lt;=50K</th>\n",
              "      <td>37.193548</td>\n",
              "    </tr>\n",
              "    <tr>\n",
              "      <th>&gt;50K</th>\n",
              "      <td>39.200000</td>\n",
              "    </tr>\n",
              "    <tr>\n",
              "      <th rowspan=\"2\" valign=\"top\">Yugoslavia</th>\n",
              "      <th>&lt;=50K</th>\n",
              "      <td>41.600000</td>\n",
              "    </tr>\n",
              "    <tr>\n",
              "      <th>&gt;50K</th>\n",
              "      <td>49.500000</td>\n",
              "    </tr>\n",
              "  </tbody>\n",
              "</table>\n",
              "</div>"
            ],
            "text/plain": [
              "                                   hours-per-week\n",
              "native-country             salary                \n",
              "?                          <=50K        40.164760\n",
              "                           >50K         45.547945\n",
              "Cambodia                   <=50K        41.416667\n",
              "                           >50K         40.000000\n",
              "Canada                     <=50K        37.914634\n",
              "                           >50K         45.641026\n",
              "China                      <=50K        37.381818\n",
              "                           >50K         38.900000\n",
              "Columbia                   <=50K        38.684211\n",
              "                           >50K         50.000000\n",
              "Cuba                       <=50K        37.985714\n",
              "                           >50K         42.440000\n",
              "Dominican-Republic         <=50K        42.338235\n",
              "                           >50K         47.000000\n",
              "Ecuador                    <=50K        38.041667\n",
              "                           >50K         48.750000\n",
              "El-Salvador                <=50K        36.030928\n",
              "                           >50K         45.000000\n",
              "England                    <=50K        40.483333\n",
              "                           >50K         44.533333\n",
              "France                     <=50K        41.058824\n",
              "                           >50K         50.750000\n",
              "Germany                    <=50K        39.139785\n",
              "                           >50K         44.977273\n",
              "Greece                     <=50K        41.809524\n",
              "                           >50K         50.625000\n",
              "Guatemala                  <=50K        39.360656\n",
              "                           >50K         36.666667\n",
              "Haiti                      <=50K        36.325000\n",
              "                           >50K         42.750000\n",
              "Holand-Netherlands         <=50K        40.000000\n",
              "Honduras                   <=50K        34.333333\n",
              "                           >50K         60.000000\n",
              "Hong                       <=50K        39.142857\n",
              "                           >50K         45.000000\n",
              "Hungary                    <=50K        31.300000\n",
              "                           >50K         50.000000\n",
              "India                      <=50K        38.233333\n",
              "                           >50K         46.475000\n",
              "Iran                       <=50K        41.440000\n",
              "                           >50K         47.500000\n",
              "Ireland                    <=50K        40.947368\n",
              "                           >50K         48.000000\n",
              "Italy                      <=50K        39.625000\n",
              "                           >50K         45.400000\n",
              "Jamaica                    <=50K        38.239437\n",
              "                           >50K         41.100000\n",
              "Japan                      <=50K        41.000000\n",
              "                           >50K         47.958333\n",
              "Laos                       <=50K        40.375000\n",
              "                           >50K         40.000000\n",
              "Mexico                     <=50K        40.003279\n",
              "                           >50K         46.575758\n",
              "Nicaragua                  <=50K        36.093750\n",
              "                           >50K         37.500000\n",
              "Outlying-US(Guam-USVI-etc) <=50K        41.857143\n",
              "Peru                       <=50K        35.068966\n",
              "                           >50K         40.000000\n",
              "Philippines                <=50K        38.065693\n",
              "                           >50K         43.032787\n",
              "Poland                     <=50K        38.166667\n",
              "                           >50K         39.000000\n",
              "Portugal                   <=50K        41.939394\n",
              "                           >50K         41.500000\n",
              "Puerto-Rico                <=50K        38.470588\n",
              "                           >50K         39.416667\n",
              "Scotland                   <=50K        39.444444\n",
              "                           >50K         46.666667\n",
              "South                      <=50K        40.156250\n",
              "                           >50K         51.437500\n",
              "Taiwan                     <=50K        33.774194\n",
              "                           >50K         46.800000\n",
              "Thailand                   <=50K        42.866667\n",
              "                           >50K         58.333333\n",
              "Trinadad&Tobago            <=50K        37.058824\n",
              "                           >50K         40.000000\n",
              "United-States              <=50K        38.799127\n",
              "                           >50K         45.505369\n",
              "Vietnam                    <=50K        37.193548\n",
              "                           >50K         39.200000\n",
              "Yugoslavia                 <=50K        41.600000\n",
              "                           >50K         49.500000"
            ]
          },
          "metadata": {
            "tags": []
          },
          "execution_count": 15
        }
      ]
    }
  ]
}