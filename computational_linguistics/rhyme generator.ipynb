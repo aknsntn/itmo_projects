{
  "nbformat": 4,
  "nbformat_minor": 0,
  "metadata": {
    "colab": {
      "name": "Генератор рифм Костень Махнева К3243",
      "provenance": [],
      "collapsed_sections": []
    },
    "kernelspec": {
      "display_name": "Python 3",
      "name": "python3"
    },
    "language_info": {
      "name": "python"
    }
  },
  "cells": [
    {
      "cell_type": "code",
      "metadata": {
        "colab": {
          "base_uri": "https://localhost:8080/"
        },
        "id": "Vg9-bXfUjaTT",
        "outputId": "f804046f-50e8-4b69-a403-81a62f77b19c"
      },
      "source": [
        "pip install nltk"
      ],
      "execution_count": null,
      "outputs": [
        {
          "output_type": "stream",
          "name": "stdout",
          "text": [
            "Requirement already satisfied: nltk in /usr/local/lib/python3.7/dist-packages (3.2.5)\n",
            "Requirement already satisfied: six in /usr/local/lib/python3.7/dist-packages (from nltk) (1.15.0)\n"
          ]
        }
      ]
    },
    {
      "cell_type": "code",
      "metadata": {
        "colab": {
          "base_uri": "https://localhost:8080/"
        },
        "id": "TBnK2wtWCDLk",
        "outputId": "9d6508ac-23e7-414b-bb3b-777faf383758"
      },
      "source": [
        "import nltk\n",
        "nltk.download('cmudict')"
      ],
      "execution_count": null,
      "outputs": [
        {
          "output_type": "stream",
          "name": "stdout",
          "text": [
            "[nltk_data] Downloading package cmudict to /root/nltk_data...\n",
            "[nltk_data]   Unzipping corpora/cmudict.zip.\n"
          ]
        },
        {
          "output_type": "execute_result",
          "data": {
            "text/plain": [
              "True"
            ]
          },
          "metadata": {},
          "execution_count": 2
        }
      ]
    },
    {
      "cell_type": "code",
      "metadata": {
        "colab": {
          "base_uri": "https://localhost:8080/"
        },
        "id": "DFcGMOgBjeie",
        "outputId": "31ed2a88-78b6-4acc-8ce6-5e3d38e35885"
      },
      "source": [
        "pip install cmudict"
      ],
      "execution_count": null,
      "outputs": [
        {
          "output_type": "stream",
          "name": "stdout",
          "text": [
            "Collecting cmudict\n",
            "  Downloading cmudict-1.0.2-py2.py3-none-any.whl (939 kB)\n",
            "\u001b[?25l\r\u001b[K     |▍                               | 10 kB 24.0 MB/s eta 0:00:01\r\u001b[K     |▊                               | 20 kB 31.3 MB/s eta 0:00:01\r\u001b[K     |█                               | 30 kB 25.9 MB/s eta 0:00:01\r\u001b[K     |█▍                              | 40 kB 19.0 MB/s eta 0:00:01\r\u001b[K     |█▊                              | 51 kB 9.2 MB/s eta 0:00:01\r\u001b[K     |██                              | 61 kB 9.6 MB/s eta 0:00:01\r\u001b[K     |██▍                             | 71 kB 8.0 MB/s eta 0:00:01\r\u001b[K     |██▉                             | 81 kB 8.9 MB/s eta 0:00:01\r\u001b[K     |███▏                            | 92 kB 7.7 MB/s eta 0:00:01\r\u001b[K     |███▌                            | 102 kB 8.4 MB/s eta 0:00:01\r\u001b[K     |███▉                            | 112 kB 8.4 MB/s eta 0:00:01\r\u001b[K     |████▏                           | 122 kB 8.4 MB/s eta 0:00:01\r\u001b[K     |████▌                           | 133 kB 8.4 MB/s eta 0:00:01\r\u001b[K     |████▉                           | 143 kB 8.4 MB/s eta 0:00:01\r\u001b[K     |█████▎                          | 153 kB 8.4 MB/s eta 0:00:01\r\u001b[K     |█████▋                          | 163 kB 8.4 MB/s eta 0:00:01\r\u001b[K     |██████                          | 174 kB 8.4 MB/s eta 0:00:01\r\u001b[K     |██████▎                         | 184 kB 8.4 MB/s eta 0:00:01\r\u001b[K     |██████▋                         | 194 kB 8.4 MB/s eta 0:00:01\r\u001b[K     |███████                         | 204 kB 8.4 MB/s eta 0:00:01\r\u001b[K     |███████▎                        | 215 kB 8.4 MB/s eta 0:00:01\r\u001b[K     |███████▊                        | 225 kB 8.4 MB/s eta 0:00:01\r\u001b[K     |████████                        | 235 kB 8.4 MB/s eta 0:00:01\r\u001b[K     |████████▍                       | 245 kB 8.4 MB/s eta 0:00:01\r\u001b[K     |████████▊                       | 256 kB 8.4 MB/s eta 0:00:01\r\u001b[K     |█████████                       | 266 kB 8.4 MB/s eta 0:00:01\r\u001b[K     |█████████▍                      | 276 kB 8.4 MB/s eta 0:00:01\r\u001b[K     |█████████▊                      | 286 kB 8.4 MB/s eta 0:00:01\r\u001b[K     |██████████▏                     | 296 kB 8.4 MB/s eta 0:00:01\r\u001b[K     |██████████▌                     | 307 kB 8.4 MB/s eta 0:00:01\r\u001b[K     |██████████▉                     | 317 kB 8.4 MB/s eta 0:00:01\r\u001b[K     |███████████▏                    | 327 kB 8.4 MB/s eta 0:00:01\r\u001b[K     |███████████▌                    | 337 kB 8.4 MB/s eta 0:00:01\r\u001b[K     |███████████▉                    | 348 kB 8.4 MB/s eta 0:00:01\r\u001b[K     |████████████▏                   | 358 kB 8.4 MB/s eta 0:00:01\r\u001b[K     |████████████▌                   | 368 kB 8.4 MB/s eta 0:00:01\r\u001b[K     |█████████████                   | 378 kB 8.4 MB/s eta 0:00:01\r\u001b[K     |█████████████▎                  | 389 kB 8.4 MB/s eta 0:00:01\r\u001b[K     |█████████████▋                  | 399 kB 8.4 MB/s eta 0:00:01\r\u001b[K     |██████████████                  | 409 kB 8.4 MB/s eta 0:00:01\r\u001b[K     |██████████████▎                 | 419 kB 8.4 MB/s eta 0:00:01\r\u001b[K     |██████████████▋                 | 430 kB 8.4 MB/s eta 0:00:01\r\u001b[K     |███████████████                 | 440 kB 8.4 MB/s eta 0:00:01\r\u001b[K     |███████████████▍                | 450 kB 8.4 MB/s eta 0:00:01\r\u001b[K     |███████████████▊                | 460 kB 8.4 MB/s eta 0:00:01\r\u001b[K     |████████████████                | 471 kB 8.4 MB/s eta 0:00:01\r\u001b[K     |████████████████▍               | 481 kB 8.4 MB/s eta 0:00:01\r\u001b[K     |████████████████▊               | 491 kB 8.4 MB/s eta 0:00:01\r\u001b[K     |█████████████████               | 501 kB 8.4 MB/s eta 0:00:01\r\u001b[K     |█████████████████▍              | 512 kB 8.4 MB/s eta 0:00:01\r\u001b[K     |█████████████████▉              | 522 kB 8.4 MB/s eta 0:00:01\r\u001b[K     |██████████████████▏             | 532 kB 8.4 MB/s eta 0:00:01\r\u001b[K     |██████████████████▌             | 542 kB 8.4 MB/s eta 0:00:01\r\u001b[K     |██████████████████▉             | 552 kB 8.4 MB/s eta 0:00:01\r\u001b[K     |███████████████████▏            | 563 kB 8.4 MB/s eta 0:00:01\r\u001b[K     |███████████████████▌            | 573 kB 8.4 MB/s eta 0:00:01\r\u001b[K     |███████████████████▉            | 583 kB 8.4 MB/s eta 0:00:01\r\u001b[K     |████████████████████▎           | 593 kB 8.4 MB/s eta 0:00:01\r\u001b[K     |████████████████████▋           | 604 kB 8.4 MB/s eta 0:00:01\r\u001b[K     |█████████████████████           | 614 kB 8.4 MB/s eta 0:00:01\r\u001b[K     |█████████████████████▎          | 624 kB 8.4 MB/s eta 0:00:01\r\u001b[K     |█████████████████████▋          | 634 kB 8.4 MB/s eta 0:00:01\r\u001b[K     |██████████████████████          | 645 kB 8.4 MB/s eta 0:00:01\r\u001b[K     |██████████████████████▎         | 655 kB 8.4 MB/s eta 0:00:01\r\u001b[K     |██████████████████████▋         | 665 kB 8.4 MB/s eta 0:00:01\r\u001b[K     |███████████████████████         | 675 kB 8.4 MB/s eta 0:00:01\r\u001b[K     |███████████████████████▍        | 686 kB 8.4 MB/s eta 0:00:01\r\u001b[K     |███████████████████████▊        | 696 kB 8.4 MB/s eta 0:00:01\r\u001b[K     |████████████████████████        | 706 kB 8.4 MB/s eta 0:00:01\r\u001b[K     |████████████████████████▍       | 716 kB 8.4 MB/s eta 0:00:01\r\u001b[K     |████████████████████████▊       | 727 kB 8.4 MB/s eta 0:00:01\r\u001b[K     |█████████████████████████       | 737 kB 8.4 MB/s eta 0:00:01\r\u001b[K     |█████████████████████████▌      | 747 kB 8.4 MB/s eta 0:00:01\r\u001b[K     |█████████████████████████▉      | 757 kB 8.4 MB/s eta 0:00:01\r\u001b[K     |██████████████████████████▏     | 768 kB 8.4 MB/s eta 0:00:01\r\u001b[K     |██████████████████████████▌     | 778 kB 8.4 MB/s eta 0:00:01\r\u001b[K     |██████████████████████████▉     | 788 kB 8.4 MB/s eta 0:00:01\r\u001b[K     |███████████████████████████▏    | 798 kB 8.4 MB/s eta 0:00:01\r\u001b[K     |███████████████████████████▌    | 808 kB 8.4 MB/s eta 0:00:01\r\u001b[K     |████████████████████████████    | 819 kB 8.4 MB/s eta 0:00:01\r\u001b[K     |████████████████████████████▎   | 829 kB 8.4 MB/s eta 0:00:01\r\u001b[K     |████████████████████████████▋   | 839 kB 8.4 MB/s eta 0:00:01\r\u001b[K     |█████████████████████████████   | 849 kB 8.4 MB/s eta 0:00:01\r\u001b[K     |█████████████████████████████▎  | 860 kB 8.4 MB/s eta 0:00:01\r\u001b[K     |█████████████████████████████▋  | 870 kB 8.4 MB/s eta 0:00:01\r\u001b[K     |██████████████████████████████  | 880 kB 8.4 MB/s eta 0:00:01\r\u001b[K     |██████████████████████████████▍ | 890 kB 8.4 MB/s eta 0:00:01\r\u001b[K     |██████████████████████████████▊ | 901 kB 8.4 MB/s eta 0:00:01\r\u001b[K     |███████████████████████████████ | 911 kB 8.4 MB/s eta 0:00:01\r\u001b[K     |███████████████████████████████▍| 921 kB 8.4 MB/s eta 0:00:01\r\u001b[K     |███████████████████████████████▊| 931 kB 8.4 MB/s eta 0:00:01\r\u001b[K     |████████████████████████████████| 939 kB 8.4 MB/s \n",
            "\u001b[?25hInstalling collected packages: cmudict\n",
            "Successfully installed cmudict-1.0.2\n"
          ]
        }
      ]
    },
    {
      "cell_type": "code",
      "metadata": {
        "id": "s7rW6GXbEIfO"
      },
      "source": [
        "import cmudict\n",
        "import sys\n",
        "import string as str\n",
        "from operator import itemgetter\n"
      ],
      "execution_count": null,
      "outputs": []
    },
    {
      "cell_type": "code",
      "metadata": {
        "colab": {
          "base_uri": "https://localhost:8080/"
        },
        "id": "wYknPsUzBouY",
        "outputId": "3c786ecf-abd1-405d-a55f-f8ff558cd1e9"
      },
      "source": [
        "def getPronunciation(in_word, entries):\n",
        "    for word, sound in entries:\n",
        "        if word == in_word:\n",
        "            return sound\n",
        "\n",
        "#def my_function(t):\n",
        "    #s = t[1]        \n",
        "    #return None    \n",
        "\n",
        "def rhymes_with(in_word, entries):\n",
        "    in_sound = getPronunciation(in_word, entries)\n",
        "    if in_sound is None:\n",
        "        print(\"The word you have typed is definitely not in corpus. We despise \\\n",
        "such behaviour.\\nWould you be so kind to try again? Or maybe you'll be \\\n",
        "better off not writing poetry at all if you can't even come up with a rhyme yourself.\")\n",
        "        return None\n",
        "    matches = []\n",
        "    invalidcharacters = set(str.punctuation)\n",
        "    for word, sound in entries:\n",
        "        if word == in_word: \n",
        "            continue\n",
        "        i=1 # reverse iterator \n",
        "        n=0 # number of matching elements\n",
        "        while True:      \n",
        "            if len(sound) < i or len(in_sound) < i: \n",
        "                break\n",
        "            elif sound[-i] != in_sound[-i]:\n",
        "                break\n",
        "            else:\n",
        "                i+=1\n",
        "                n+=1\n",
        "            if n>0:\n",
        "                matches.append((n,word))\n",
        "\n",
        "    matches_final = list(set(matches)) # clean up\n",
        "\n",
        "    matches_final.sort()\n",
        "    matches_final.reverse()\n",
        "\n",
        "    #x = matches_final\n",
        "    #filter(my_function, x)\n",
        "\n",
        "    #for i in matches_final[i]:\n",
        "        #if len(matches_final[i]) < 2 or (any(char in invalidcharacters for char in matches_final[i])):\n",
        "           #matches_final.remove(matches_final[i])\n",
        "\n",
        "    return matches_final\n",
        "    \n",
        "if __name__ == '__main__':\n",
        "    while True:\n",
        "        soundDict = cmudict.entries()\n",
        "        target = input(\"You wish to find words that do rhyme with (or you could type 'let me go' to exit): \")    \n",
        "        target = target.lower()\n",
        "        if target == 'let me go':\n",
        "            print('We are looking forward to seeing you again!')\n",
        "            break\n",
        "        results = rhymes_with(target, soundDict)\n",
        "        if results is not None:\n",
        "            if len(results) > 20:\n",
        "                results = results[0:20]\n",
        "            else:\n",
        "                resuts = results\n",
        "            print(\"We are delighted to present you with these options:\")\n",
        "            for r in results:\n",
        "                print(r[1])"
      ],
      "execution_count": null,
      "outputs": [
        {
          "output_type": "stream",
          "name": "stdout",
          "text": [
            "You wish to find words that do rhyme with (or you could type 'let me go' to exit): hello\n",
            "We are delighted to present you with these options:\n",
            "veilleux\n",
            "valleau\n",
            "tourtelot\n",
            "mealo\n",
            "groleau\n",
            "veilleux\n",
            "valleau\n",
            "tourtelot\n",
            "tableaux\n",
            "tableau\n",
            "soileau\n",
            "slow\n",
            "sloe\n",
            "rouleau\n",
            "plough\n",
            "overflow\n",
            "mealo\n",
            "lowe\n",
            "low\n",
            "loh\n"
          ]
        }
      ]
    },
    {
      "cell_type": "markdown",
      "metadata": {
        "id": "vRxSsGg5sZSS"
      },
      "source": [
        "https://stackoverflow.com/questions/16304358/python-list-of-tuples-need-to-unpack-and-clean-up"
      ]
    }
  ]
}